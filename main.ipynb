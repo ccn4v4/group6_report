{
 "cells": [
  {
   "cell_type": "code",
   "execution_count": 1,
   "id": "78513c0b-4a30-4d13-a6d1-91abca5d2817",
   "metadata": {},
   "outputs": [
    {
     "name": "stderr",
     "output_type": "stream",
     "text": [
      "── \u001b[1mAttaching core tidyverse packages\u001b[22m ──────────────────────── tidyverse 2.0.0 ──\n",
      "\u001b[32m✔\u001b[39m \u001b[34mdplyr    \u001b[39m 1.1.4     \u001b[32m✔\u001b[39m \u001b[34mreadr    \u001b[39m 2.1.5\n",
      "\u001b[32m✔\u001b[39m \u001b[34mforcats  \u001b[39m 1.0.0     \u001b[32m✔\u001b[39m \u001b[34mstringr  \u001b[39m 1.5.1\n",
      "\u001b[32m✔\u001b[39m \u001b[34mggplot2  \u001b[39m 3.5.1     \u001b[32m✔\u001b[39m \u001b[34mtibble   \u001b[39m 3.2.1\n",
      "\u001b[32m✔\u001b[39m \u001b[34mlubridate\u001b[39m 1.9.3     \u001b[32m✔\u001b[39m \u001b[34mtidyr    \u001b[39m 1.3.1\n",
      "\u001b[32m✔\u001b[39m \u001b[34mpurrr    \u001b[39m 1.0.2     \n",
      "── \u001b[1mConflicts\u001b[22m ────────────────────────────────────────── tidyverse_conflicts() ──\n",
      "\u001b[31m✖\u001b[39m \u001b[34mdplyr\u001b[39m::\u001b[32mfilter()\u001b[39m masks \u001b[34mstats\u001b[39m::filter()\n",
      "\u001b[31m✖\u001b[39m \u001b[34mdplyr\u001b[39m::\u001b[32mlag()\u001b[39m    masks \u001b[34mstats\u001b[39m::lag()\n",
      "\u001b[36mℹ\u001b[39m Use the conflicted package (\u001b[3m\u001b[34m<http://conflicted.r-lib.org/>\u001b[39m\u001b[23m) to force all conflicts to become errors\n",
      "── \u001b[1mAttaching packages\u001b[22m ────────────────────────────────────── tidymodels 1.1.1 ──\n",
      "\n",
      "\u001b[32m✔\u001b[39m \u001b[34mbroom       \u001b[39m 1.0.6     \u001b[32m✔\u001b[39m \u001b[34mrsample     \u001b[39m 1.2.1\n",
      "\u001b[32m✔\u001b[39m \u001b[34mdials       \u001b[39m 1.3.0     \u001b[32m✔\u001b[39m \u001b[34mtune        \u001b[39m 1.1.2\n",
      "\u001b[32m✔\u001b[39m \u001b[34minfer       \u001b[39m 1.0.7     \u001b[32m✔\u001b[39m \u001b[34mworkflows   \u001b[39m 1.1.4\n",
      "\u001b[32m✔\u001b[39m \u001b[34mmodeldata   \u001b[39m 1.4.0     \u001b[32m✔\u001b[39m \u001b[34mworkflowsets\u001b[39m 1.0.1\n",
      "\u001b[32m✔\u001b[39m \u001b[34mparsnip     \u001b[39m 1.2.1     \u001b[32m✔\u001b[39m \u001b[34myardstick   \u001b[39m 1.3.1\n",
      "\u001b[32m✔\u001b[39m \u001b[34mrecipes     \u001b[39m 1.1.0     \n",
      "\n",
      "── \u001b[1mConflicts\u001b[22m ───────────────────────────────────────── tidymodels_conflicts() ──\n",
      "\u001b[31m✖\u001b[39m \u001b[34mscales\u001b[39m::\u001b[32mdiscard()\u001b[39m masks \u001b[34mpurrr\u001b[39m::discard()\n",
      "\u001b[31m✖\u001b[39m \u001b[34mdplyr\u001b[39m::\u001b[32mfilter()\u001b[39m   masks \u001b[34mstats\u001b[39m::filter()\n",
      "\u001b[31m✖\u001b[39m \u001b[34mrecipes\u001b[39m::\u001b[32mfixed()\u001b[39m  masks \u001b[34mstringr\u001b[39m::fixed()\n",
      "\u001b[31m✖\u001b[39m \u001b[34mdplyr\u001b[39m::\u001b[32mlag()\u001b[39m      masks \u001b[34mstats\u001b[39m::lag()\n",
      "\u001b[31m✖\u001b[39m \u001b[34myardstick\u001b[39m::\u001b[32mspec()\u001b[39m masks \u001b[34mreadr\u001b[39m::spec()\n",
      "\u001b[31m✖\u001b[39m \u001b[34mrecipes\u001b[39m::\u001b[32mstep()\u001b[39m   masks \u001b[34mstats\u001b[39m::step()\n",
      "\u001b[34m•\u001b[39m Use suppressPackageStartupMessages() to eliminate package startup messages\n",
      "\n",
      "\n",
      "Attaching package: ‘cowplot’\n",
      "\n",
      "\n",
      "The following object is masked from ‘package:lubridate’:\n",
      "\n",
      "    stamp\n",
      "\n",
      "\n"
     ]
    }
   ],
   "source": [
    "library(tidyverse)\n",
    "library(repr)\n",
    "library(tidymodels)\n",
    "library(cowplot)\n",
    "options(repr.matrix.max.rows = 6)"
   ]
  },
  {
   "cell_type": "code",
   "execution_count": 2,
   "id": "f7ca81bf-6ae4-453b-a0d1-fb4593cbe37d",
   "metadata": {},
   "outputs": [
    {
     "name": "stderr",
     "output_type": "stream",
     "text": [
      "\u001b[1mRows: \u001b[22m\u001b[34m196\u001b[39m \u001b[1mColumns: \u001b[22m\u001b[34m7\u001b[39m\n",
      "\u001b[36m──\u001b[39m \u001b[1mColumn specification\u001b[22m \u001b[36m────────────────────────────────────────────────────────\u001b[39m\n",
      "\u001b[1mDelimiter:\u001b[22m \",\"\n",
      "\u001b[31mchr\u001b[39m (4): experience, hashedEmail, name, gender\n",
      "\u001b[32mdbl\u001b[39m (2): played_hours, Age\n",
      "\u001b[33mlgl\u001b[39m (1): subscribe\n",
      "\n",
      "\u001b[36mℹ\u001b[39m Use `spec()` to retrieve the full column specification for this data.\n",
      "\u001b[36mℹ\u001b[39m Specify the column types or set `show_col_types = FALSE` to quiet this message.\n"
     ]
    },
    {
     "data": {
      "text/html": [
       "<table class=\"dataframe\">\n",
       "<caption>A tibble: 6 × 7</caption>\n",
       "<thead>\n",
       "\t<tr><th scope=col>experience</th><th scope=col>subscribe</th><th scope=col>played_hours</th><th scope=col>name</th><th scope=col>gender</th><th scope=col>age</th><th scope=col>hashed_email</th></tr>\n",
       "\t<tr><th scope=col>&lt;fct&gt;</th><th scope=col>&lt;fct&gt;</th><th scope=col>&lt;dbl&gt;</th><th scope=col>&lt;chr&gt;</th><th scope=col>&lt;chr&gt;</th><th scope=col>&lt;dbl&gt;</th><th scope=col>&lt;chr&gt;</th></tr>\n",
       "</thead>\n",
       "<tbody>\n",
       "\t<tr><td>Pro    </td><td>TRUE </td><td>30.3</td><td>Morgan   </td><td>Male  </td><td> 9</td><td>f6daba428a5e19a3d47574858c13550499be23603422e6a0ee9728f8b53e192d</td></tr>\n",
       "\t<tr><td>Veteran</td><td>TRUE </td><td> 3.8</td><td>Christian</td><td>Male  </td><td>17</td><td>f3c813577c458ba0dfef80996f8f32c93b6e8af1fa939732842f2312358a88e9</td></tr>\n",
       "\t<tr><td>Veteran</td><td>FALSE</td><td> 0.0</td><td>Blake    </td><td>Male  </td><td>17</td><td>b674dd7ee0d24096d1c019615ce4d12b20fcbff12d79d3c5a9d2118eb7ccbb28</td></tr>\n",
       "\t<tr><td>Amateur</td><td>TRUE </td><td> 0.7</td><td>Flora    </td><td>Female</td><td>21</td><td>23fe711e0e3b77f1da7aa221ab1192afe21648d47d2b4fa7a5a659ff443a0eb5</td></tr>\n",
       "\t<tr><td>Regular</td><td>TRUE </td><td> 0.1</td><td>Kylie    </td><td>Male  </td><td>21</td><td>7dc01f10bf20671ecfccdac23812b1b415acd42c2147cb0af4d48fcce2420f3e</td></tr>\n",
       "\t<tr><td>Amateur</td><td>TRUE </td><td> 0.0</td><td>Adrian   </td><td>Female</td><td>17</td><td>f58aad5996a435f16b0284a3b267f973f9af99e7a89bee0430055a44fa92f977</td></tr>\n",
       "</tbody>\n",
       "</table>\n"
      ],
      "text/latex": [
       "A tibble: 6 × 7\n",
       "\\begin{tabular}{lllllll}\n",
       " experience & subscribe & played\\_hours & name & gender & age & hashed\\_email\\\\\n",
       " <fct> & <fct> & <dbl> & <chr> & <chr> & <dbl> & <chr>\\\\\n",
       "\\hline\n",
       "\t Pro     & TRUE  & 30.3 & Morgan    & Male   &  9 & f6daba428a5e19a3d47574858c13550499be23603422e6a0ee9728f8b53e192d\\\\\n",
       "\t Veteran & TRUE  &  3.8 & Christian & Male   & 17 & f3c813577c458ba0dfef80996f8f32c93b6e8af1fa939732842f2312358a88e9\\\\\n",
       "\t Veteran & FALSE &  0.0 & Blake     & Male   & 17 & b674dd7ee0d24096d1c019615ce4d12b20fcbff12d79d3c5a9d2118eb7ccbb28\\\\\n",
       "\t Amateur & TRUE  &  0.7 & Flora     & Female & 21 & 23fe711e0e3b77f1da7aa221ab1192afe21648d47d2b4fa7a5a659ff443a0eb5\\\\\n",
       "\t Regular & TRUE  &  0.1 & Kylie     & Male   & 21 & 7dc01f10bf20671ecfccdac23812b1b415acd42c2147cb0af4d48fcce2420f3e\\\\\n",
       "\t Amateur & TRUE  &  0.0 & Adrian    & Female & 17 & f58aad5996a435f16b0284a3b267f973f9af99e7a89bee0430055a44fa92f977\\\\\n",
       "\\end{tabular}\n"
      ],
      "text/markdown": [
       "\n",
       "A tibble: 6 × 7\n",
       "\n",
       "| experience &lt;fct&gt; | subscribe &lt;fct&gt; | played_hours &lt;dbl&gt; | name &lt;chr&gt; | gender &lt;chr&gt; | age &lt;dbl&gt; | hashed_email &lt;chr&gt; |\n",
       "|---|---|---|---|---|---|---|\n",
       "| Pro     | TRUE  | 30.3 | Morgan    | Male   |  9 | f6daba428a5e19a3d47574858c13550499be23603422e6a0ee9728f8b53e192d |\n",
       "| Veteran | TRUE  |  3.8 | Christian | Male   | 17 | f3c813577c458ba0dfef80996f8f32c93b6e8af1fa939732842f2312358a88e9 |\n",
       "| Veteran | FALSE |  0.0 | Blake     | Male   | 17 | b674dd7ee0d24096d1c019615ce4d12b20fcbff12d79d3c5a9d2118eb7ccbb28 |\n",
       "| Amateur | TRUE  |  0.7 | Flora     | Female | 21 | 23fe711e0e3b77f1da7aa221ab1192afe21648d47d2b4fa7a5a659ff443a0eb5 |\n",
       "| Regular | TRUE  |  0.1 | Kylie     | Male   | 21 | 7dc01f10bf20671ecfccdac23812b1b415acd42c2147cb0af4d48fcce2420f3e |\n",
       "| Amateur | TRUE  |  0.0 | Adrian    | Female | 17 | f58aad5996a435f16b0284a3b267f973f9af99e7a89bee0430055a44fa92f977 |\n",
       "\n"
      ],
      "text/plain": [
       "  experience subscribe played_hours name      gender age\n",
       "1 Pro        TRUE      30.3         Morgan    Male    9 \n",
       "2 Veteran    TRUE       3.8         Christian Male   17 \n",
       "3 Veteran    FALSE      0.0         Blake     Male   17 \n",
       "4 Amateur    TRUE       0.7         Flora     Female 21 \n",
       "5 Regular    TRUE       0.1         Kylie     Male   21 \n",
       "6 Amateur    TRUE       0.0         Adrian    Female 17 \n",
       "  hashed_email                                                    \n",
       "1 f6daba428a5e19a3d47574858c13550499be23603422e6a0ee9728f8b53e192d\n",
       "2 f3c813577c458ba0dfef80996f8f32c93b6e8af1fa939732842f2312358a88e9\n",
       "3 b674dd7ee0d24096d1c019615ce4d12b20fcbff12d79d3c5a9d2118eb7ccbb28\n",
       "4 23fe711e0e3b77f1da7aa221ab1192afe21648d47d2b4fa7a5a659ff443a0eb5\n",
       "5 7dc01f10bf20671ecfccdac23812b1b415acd42c2147cb0af4d48fcce2420f3e\n",
       "6 f58aad5996a435f16b0284a3b267f973f9af99e7a89bee0430055a44fa92f977"
      ]
     },
     "metadata": {},
     "output_type": "display_data"
    }
   ],
   "source": [
    "PLAYERS_DATA_URL = \"https://raw.githubusercontent.com/ccn4v4/group6_report/refs/heads/main/players.csv\"\n",
    "\n",
    "# Download Data\n",
    "download.file(PLAYERS_DATA_URL, \"players.csv\")\n",
    "\n",
    "# Load Data\n",
    "players_df <- read_csv('players.csv') \n",
    "\n",
    "# Clean Data\n",
    "\n",
    "# Remove NA's and add levels to experience for visualization\n",
    "players_df <- players_df |>\n",
    "    filter(!is.na(Age)) |>\n",
    "    mutate(\n",
    "        \"age\" = Age,\n",
    "        \"subscribe\" = as.factor(subscribe),\n",
    "        \"hashed_email\" = hashedEmail,\n",
    "        \"experience\" = factor(\n",
    "            experience, \n",
    "            levels = c(\"Beginner\", \"Amateur\", \"Regular\", \"Veteran\", \"Pro\"), \n",
    "        )\n",
    "    ) |>\n",
    "    select(-Age, -hashedEmail)\n",
    "\n",
    "head(players_df)"
   ]
  }
 ],
 "metadata": {
  "kernelspec": {
   "display_name": "R",
   "language": "R",
   "name": "ir"
  },
  "language_info": {
   "codemirror_mode": "r",
   "file_extension": ".r",
   "mimetype": "text/x-r-source",
   "name": "R",
   "pygments_lexer": "r",
   "version": "4.3.3"
  }
 },
 "nbformat": 4,
 "nbformat_minor": 5
}
