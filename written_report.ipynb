{
 "cells": [
  {
   "cell_type": "markdown",
   "id": "3846af42-1d28-4fce-aed8-3e50a0505466",
   "metadata": {},
   "source": [
    "Exploring Player Characteristics That Predicts Newsletter Subscription (Temporary Title)\n",
    "-\n",
    "\n",
    "**DSCI 100 010 Group 6** \n",
    "\n",
    "**Sayyam Arora, Michael Dickinson, Cecile Nava, Zoey Qiu** "
   ]
  },
  {
   "cell_type": "markdown",
   "id": "0cfedebc-332d-4e1e-9d56-997e74660fb1",
   "metadata": {},
   "source": [
    "------------\n",
    "\n",
    "### Introduction\n",
    "\n",
    "The Pacific Laboratory for Artificial Intelligence (PLAI) [link their research page], a research group at UBC’s Computer Science department led by Frank Wood [link his page], is interested in understanding which characteristics and behaviours in a video game player are most predictive of game newsletter subscription for Minecraft. Group 6 poses the question of whether age (`Age`) and played hours (`played_hours`) are reliable predictors for subscription status (`subscribe`) in the players.csv file.  While we will be explicitly using those three explicitly mentioned variables, there is also `gender`, `name`, `experience`, and `hashedEmail` which make up the 7 columns and 196 rows of `players.csv`. Below is a description of the 7 variables.  \n",
    "\n",
    "\n",
    "| # | Variable         | Description                                   | Variable Type |\n",
    "|---| ---------------- | ----------------------------------------------| --------------|\n",
    "| 1 | experience       |  experience status of player                  | character     |\n",
    "| 2 | subscribe        | whether player is subscribe to game newsletter| logical       |\n",
    "| 3 | hashedEmail      | player's hashed email to identify them        | character     |\n",
    "| 4 | played_hours     | how long player has played (in hours)         |        double |\n",
    "| 5 | name             | name of player                                |     character |\n",
    "| 6 | gender           | gender of player                              |     character |\n",
    "| 7 | Age              |                                 age of player |        double |\n",
    "\n",
    " \n",
    "\n",
    "Based on data exploration the mean played hours of the players is 5.8 hours, with a player reaching 223.1 hour and some not even reaching 1 full hour. The mean age of the 196 recorded players is 20, the oldest being 50 and the youngest being 8 years old.  "
   ]
  },
  {
   "cell_type": "markdown",
   "id": "78617e8b-ea1e-4960-9a7e-b002759a7f12",
   "metadata": {},
   "source": [
    "**METHODS USED**\n",
    "\n",
    "\n",
    "To explore whether a Minecraft player’s age, experience level, and hours played could predict whether they subscribe to the game’s newsletter, we used a K-Nearest Neighbors (KNN) classification model.\n",
    "\n",
    "**Data Preparation**\n",
    "\n",
    "We began by importing the dataset players.csv, which contains 196 observations and 7 variables, including the target variable subscribe. Only the relevant predictor variables - age, played hours, and experience , were selected for analysis. We removed entries with missing values and reformatted variable types as needed, converting categorical values such as experience into an ordered factor. Irrelevant identifiers such as name and hashedEmail were excluded.\n",
    "\n",
    "**Exploring the Data**\n",
    "\n",
    "Before building our model, we took a closer look at the data to understand the general trends. We noticed that most players were around 20 years old, with the youngest being 8 and the oldest 50. The time spent playing Minecraft varied a lot ,some players had barely played at all, while one had logged over 220 hours. This step helped us understand the range and behavior of our predictors.\n",
    "\n",
    "**Building the Model**\n",
    "\n",
    "To train and test our model fairly, we split the data into two parts: one for training the model and one for testing how well it performs. We used a method called cross-validation to figure out how many neighbors the KNN model should consider when making a prediction. This helped us find the best version of the model.\n",
    "\n",
    "**Evaluating the Model**\n",
    "\n",
    "After building the model, we tested it on the unseen portion of the data to see how accurate it was. We found that our model could correctly predict whether a player subscribed about 72.5% of the time. While the accuracy was solid, we also noticed that the model didn’t perform significantly better than chance in terms of consistency, likely because the characteristics of subscribed and unsubscribed players were quite similar."
   ]
  },
  {
   "cell_type": "code",
   "execution_count": null,
   "id": "149004b3-aa9b-4e8c-8b81-0645e33efba3",
   "metadata": {},
   "outputs": [],
   "source": []
  }
 ],
 "metadata": {
  "kernelspec": {
   "display_name": "R",
   "language": "R",
   "name": "ir"
  },
  "language_info": {
   "codemirror_mode": "r",
   "file_extension": ".r",
   "mimetype": "text/x-r-source",
   "name": "R",
   "pygments_lexer": "r",
   "version": "4.3.3"
  }
 },
 "nbformat": 4,
 "nbformat_minor": 5
}
