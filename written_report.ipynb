{
 "cells": [
  {
   "cell_type": "code",
   "execution_count": 1,
   "id": "5c4dd8f7-9383-4b0f-9fa7-c71bf324791a",
   "metadata": {},
   "outputs": [
    {
     "name": "stderr",
     "output_type": "stream",
     "text": [
      "── \u001b[1mAttaching core tidyverse packages\u001b[22m ──────────────────────── tidyverse 2.0.0 ──\n",
      "\u001b[32m✔\u001b[39m \u001b[34mdplyr    \u001b[39m 1.1.4     \u001b[32m✔\u001b[39m \u001b[34mreadr    \u001b[39m 2.1.5\n",
      "\u001b[32m✔\u001b[39m \u001b[34mforcats  \u001b[39m 1.0.0     \u001b[32m✔\u001b[39m \u001b[34mstringr  \u001b[39m 1.5.1\n",
      "\u001b[32m✔\u001b[39m \u001b[34mggplot2  \u001b[39m 3.5.1     \u001b[32m✔\u001b[39m \u001b[34mtibble   \u001b[39m 3.2.1\n",
      "\u001b[32m✔\u001b[39m \u001b[34mlubridate\u001b[39m 1.9.3     \u001b[32m✔\u001b[39m \u001b[34mtidyr    \u001b[39m 1.3.1\n",
      "\u001b[32m✔\u001b[39m \u001b[34mpurrr    \u001b[39m 1.0.2     \n",
      "── \u001b[1mConflicts\u001b[22m ────────────────────────────────────────── tidyverse_conflicts() ──\n",
      "\u001b[31m✖\u001b[39m \u001b[34mdplyr\u001b[39m::\u001b[32mfilter()\u001b[39m masks \u001b[34mstats\u001b[39m::filter()\n",
      "\u001b[31m✖\u001b[39m \u001b[34mdplyr\u001b[39m::\u001b[32mlag()\u001b[39m    masks \u001b[34mstats\u001b[39m::lag()\n",
      "\u001b[36mℹ\u001b[39m Use the conflicted package (\u001b[3m\u001b[34m<http://conflicted.r-lib.org/>\u001b[39m\u001b[23m) to force all conflicts to become errors\n",
      "── \u001b[1mAttaching packages\u001b[22m ────────────────────────────────────── tidymodels 1.1.1 ──\n",
      "\n",
      "\u001b[32m✔\u001b[39m \u001b[34mbroom       \u001b[39m 1.0.6     \u001b[32m✔\u001b[39m \u001b[34mrsample     \u001b[39m 1.2.1\n",
      "\u001b[32m✔\u001b[39m \u001b[34mdials       \u001b[39m 1.3.0     \u001b[32m✔\u001b[39m \u001b[34mtune        \u001b[39m 1.1.2\n",
      "\u001b[32m✔\u001b[39m \u001b[34minfer       \u001b[39m 1.0.7     \u001b[32m✔\u001b[39m \u001b[34mworkflows   \u001b[39m 1.1.4\n",
      "\u001b[32m✔\u001b[39m \u001b[34mmodeldata   \u001b[39m 1.4.0     \u001b[32m✔\u001b[39m \u001b[34mworkflowsets\u001b[39m 1.0.1\n",
      "\u001b[32m✔\u001b[39m \u001b[34mparsnip     \u001b[39m 1.2.1     \u001b[32m✔\u001b[39m \u001b[34myardstick   \u001b[39m 1.3.1\n",
      "\u001b[32m✔\u001b[39m \u001b[34mrecipes     \u001b[39m 1.1.0     \n",
      "\n",
      "── \u001b[1mConflicts\u001b[22m ───────────────────────────────────────── tidymodels_conflicts() ──\n",
      "\u001b[31m✖\u001b[39m \u001b[34mscales\u001b[39m::\u001b[32mdiscard()\u001b[39m masks \u001b[34mpurrr\u001b[39m::discard()\n",
      "\u001b[31m✖\u001b[39m \u001b[34mdplyr\u001b[39m::\u001b[32mfilter()\u001b[39m   masks \u001b[34mstats\u001b[39m::filter()\n",
      "\u001b[31m✖\u001b[39m \u001b[34mrecipes\u001b[39m::\u001b[32mfixed()\u001b[39m  masks \u001b[34mstringr\u001b[39m::fixed()\n",
      "\u001b[31m✖\u001b[39m \u001b[34mdplyr\u001b[39m::\u001b[32mlag()\u001b[39m      masks \u001b[34mstats\u001b[39m::lag()\n",
      "\u001b[31m✖\u001b[39m \u001b[34myardstick\u001b[39m::\u001b[32mspec()\u001b[39m masks \u001b[34mreadr\u001b[39m::spec()\n",
      "\u001b[31m✖\u001b[39m \u001b[34mrecipes\u001b[39m::\u001b[32mstep()\u001b[39m   masks \u001b[34mstats\u001b[39m::step()\n",
      "\u001b[34m•\u001b[39m Learn how to get started at \u001b[32mhttps://www.tidymodels.org/start/\u001b[39m\n",
      "\n",
      "\n",
      "Attaching package: ‘cowplot’\n",
      "\n",
      "\n",
      "The following object is masked from ‘package:lubridate’:\n",
      "\n",
      "    stamp\n",
      "\n",
      "\n"
     ]
    }
   ],
   "source": [
    "library(tidyverse)\n",
    "library(repr)\n",
    "library(tidymodels)\n",
    "library(cowplot)\n",
    "options(repr.matrix.max.rows = 6)"
   ]
  },
  {
   "cell_type": "code",
   "execution_count": 8,
   "id": "5bc464a3-100e-471a-81ae-76f103220a07",
   "metadata": {},
   "outputs": [
    {
     "name": "stderr",
     "output_type": "stream",
     "text": [
      "\u001b[1mRows: \u001b[22m\u001b[34m196\u001b[39m \u001b[1mColumns: \u001b[22m\u001b[34m7\u001b[39m\n",
      "\u001b[36m──\u001b[39m \u001b[1mColumn specification\u001b[22m \u001b[36m────────────────────────────────────────────────────────\u001b[39m\n",
      "\u001b[1mDelimiter:\u001b[22m \",\"\n",
      "\u001b[31mchr\u001b[39m (4): experience, hashedEmail, name, gender\n",
      "\u001b[32mdbl\u001b[39m (2): played_hours, Age\n",
      "\u001b[33mlgl\u001b[39m (1): subscribe\n",
      "\n",
      "\u001b[36mℹ\u001b[39m Use `spec()` to retrieve the full column specification for this data.\n",
      "\u001b[36mℹ\u001b[39m Specify the column types or set `show_col_types = FALSE` to quiet this message.\n"
     ]
    }
   ],
   "source": [
    "PLAYERS_DATA_URL = \"https://raw.githubusercontent.com/Michael-R-Dickinson/DSCI-100-individual-project/refs/heads/main/players.csv\"\n",
    "\n",
    "# Download Data\n",
    "download.file(PLAYERS_DATA_URL, \"players.csv\")\n",
    "\n",
    "# Load Data\n",
    "players_df <- read_csv('players.csv') \n",
    "\n",
    "# Clean Data\n",
    "\n",
    "# Remove NA's and add levels to experience for visualization\n",
    "players_df <- players_df |>\n",
    "    filter(!is.na(Age)) |>\n",
    "    mutate(\n",
    "        \"age\" = Age,\n",
    "        \"subscribe\" = as.factor(subscribe),\n",
    "        \"hashed_email\" = hashedEmail,\n",
    "        \"experience\" = factor(\n",
    "            experience, \n",
    "            levels = c(\"Beginner\", \"Amateur\", \"Regular\", \"Veteran\", \"Pro\"), \n",
    "        )\n",
    "    ) |>\n",
    "    select(-Age, -hashedEmail)\n",
    "\n"
   ]
  },
  {
   "cell_type": "code",
   "execution_count": 9,
   "id": "d84a180f-0e6b-4950-8030-1d67f3539738",
   "metadata": {},
   "outputs": [],
   "source": [
    "players_df <- players_df |>\n",
    "    mutate(\"experience\" = as.numeric(experience))\n",
    "\n",
    "predictors_df <- players_df |> \n",
    "    select(played_hours, age, experience, subscribe)"
   ]
  },
  {
   "cell_type": "code",
   "execution_count": 12,
   "id": "2abd2a3f-4bcb-46b5-95aa-79cae6191dca",
   "metadata": {},
   "outputs": [],
   "source": [
    "# Histograms with Subscribe coloring for analyzing visualization\n",
    "\n",
    "# for played hours \n",
    "options(repr.plot.width = 8, repr.plot.height = 6)\n",
    "hours_his <- predictors_df |> ggplot(aes(x = played_hours, fill = subscribe)) +\n",
    "    geom_histogram(bins = 12) +\n",
    "    scale_x_log10() + \n",
    "    labs(\n",
    "            x = \"Hours Played\",\n",
    "            y = \"Number of Players\",\n",
    "            fill = \"Subscribed\",\n",
    "            title = \"Played Hours Colored by Subscription\"\n",
    "    ) + \n",
    "    theme(text = element_text(size = 15))\n",
    "\n",
    "# for age\n",
    "options(repr.plot.width = 8, repr.plot.height = 6)\n",
    "age_his <- predictors_df |> ggplot(aes(x = age, fill = subscribe)) +\n",
    "    geom_histogram(bins = 12) +\n",
    "    labs(\n",
    "            x = \"Player Age\",\n",
    "            y = \"Number of Players\",\n",
    "            fill = \"Subscribed\",\n",
    "            title = \"Player Age Colored by Subscription\"\n",
    "    ) + \n",
    "    # Log scaling on y but without dropping all rows that cause 0 values\n",
    "    # because log(0) = infinity\n",
    "    scale_y_continuous(trans = scales::pseudo_log_trans()) + \n",
    "    theme(text = element_text(size = 15))\n",
    "\n",
    "# for experience\n",
    "options(repr.plot.width = 8, repr.plot.height = 6)\n",
    "experience_his <- predictors_df |> ggplot(aes(x = experience, fill = subscribe)) +\n",
    "    geom_histogram(bins = 5) + \n",
    "    labs(\n",
    "            x = \"Experience Level\",\n",
    "            y = \"Number of Players\",\n",
    "            fill = \"Subscribed\",\n",
    "            title = \"Player Experience Colored by Subscription\"\n",
    "    ) + \n",
    "    theme(text = element_text(size = 15))"
   ]
  },
  {
   "cell_type": "markdown",
   "id": "3846af42-1d28-4fce-aed8-3e50a0505466",
   "metadata": {},
   "source": [
    "Using Age, Experience, and Played Hours to Predict Minecraft Newsletter Subcription Status\n",
    "-\n",
    "\n",
    "**DSCI 100 010 Group 6** \n",
    "\n",
    "**Sayyam Arora, Michael Dickinson, Cecile Nava, Zoey Qiu** "
   ]
  },
  {
   "cell_type": "markdown",
   "id": "0cfedebc-332d-4e1e-9d56-997e74660fb1",
   "metadata": {},
   "source": [
    "------------\n",
    "\n",
    "### Introduction\n",
    "\n",
    "The Pacific Laboratory for Artificial Intelligence (PLAI) [link their research page], a research group at UBC’s Computer Science department led by Frank Wood [link his page], is interested in understanding which characteristics and behaviours in a video game player are most predictive of game newsletter subscription for Minecraft. Group 6 poses the question of whether age (`Age`), player's experience (`experience`), and played hours (`played_hours`) are reliable predictors for subscription status (`subscribe`) in the players.csv file.  While we will be explicitly using those three mentioned variables, there are also `gender`, `name`, and `hashedEmail` which make up the 7 columns and 196 rows of `players.csv`. Below is a description of the 7 variables.  \n",
    "\n",
    "\n",
    "| # | Variable         | Description                                   | Variable Type |\n",
    "|---| ---------------- | ----------------------------------------------| --------------|\n",
    "| 1 | experience       |  experience status of player                  | character     |\n",
    "| 2 | subscribe        | whether player is subscribe to game newsletter| logical       |\n",
    "| 3 | hashedEmail      | player's hashed email to identify them        | character     |\n",
    "| 4 | played_hours     | how long player has played (in hours)         |        double |\n",
    "| 5 | name             | name of player                                |     character |\n",
    "| 6 | gender           | gender of player                              |     character |\n",
    "| 7 | Age              |                                 age of player |        double |\n",
    "\n",
    " \n",
    "\n",
    "Based on data exploration the mean played hours of the players is 5.8 hours, with a player reaching 223.1 hour and some not even reaching 1 full hour. The mean age of the 196 recorded players is 20, the oldest being 50 and the youngest being 8 years old.  "
   ]
  },
  {
   "cell_type": "markdown",
   "id": "78617e8b-ea1e-4960-9a7e-b002759a7f12",
   "metadata": {},
   "source": [
    "### METHODS USED\n",
    "\n",
    "\n",
    "To explore whether a Minecraft player’s age, experience level, and hours played could predict whether they subscribe to the game’s newsletter, we used a K-Nearest Neighbors (KNN) classification model.\n",
    "\n",
    "**Data Preparation**\n",
    "\n",
    "We began by importing the dataset players.csv, which contains 196 observations and 7 variables, including the target variable subscribe. Only the relevant predictor variables - `age`, `played_hours`, and `experience`, were selected for analysis. We removed entries with missing values and reformatted variable types as needed, converting categorical values such as experience into an ordered factor. Irrelevant identifiers such as name and hashedEmail were excluded.\n",
    "\n",
    "**Exploring the Data**\n",
    "\n",
    "Before building our model, we took a closer look at the data to understand the general trends. We noticed that most players were around 20 years old, with the youngest being 8 and the oldest 50. The time spent playing Minecraft varied a lot, some players had barely played at all, while one had logged over 220 hours. This step helped us understand the range and behavior of our predictors.\n",
    "\n",
    "**Building the Model**\n",
    "\n",
    "To train and test our model fairly, we split the data into two parts: one for training the model and one for testing how well it performs. We used a method called cross-validation to figure out how many neighbours the KNN model should consider when making a prediction. This helped us find the best version of the model.\n",
    "\n",
    "**Evaluating the Model**\n",
    "\n",
    "After building the model, we tested it on the unseen portion of the data to see how accurate it was. We found that our model could correctly predict whether a player subscribed about 72.5% of the time. While the accuracy was solid, we also noticed that the model didn’t perform significantly better than chance in terms of consistency, likely because the characteristics of subscribed and unsubscribed players were quite similar."
   ]
  },
  {
   "cell_type": "code",
   "execution_count": null,
   "id": "149004b3-aa9b-4e8c-8b81-0645e33efba3",
   "metadata": {},
   "outputs": [],
   "source": []
  }
 ],
 "metadata": {
  "kernelspec": {
   "display_name": "R",
   "language": "R",
   "name": "ir"
  },
  "language_info": {
   "codemirror_mode": "r",
   "file_extension": ".r",
   "mimetype": "text/x-r-source",
   "name": "R",
   "pygments_lexer": "r",
   "version": "4.3.3"
  }
 },
 "nbformat": 4,
 "nbformat_minor": 5
}
