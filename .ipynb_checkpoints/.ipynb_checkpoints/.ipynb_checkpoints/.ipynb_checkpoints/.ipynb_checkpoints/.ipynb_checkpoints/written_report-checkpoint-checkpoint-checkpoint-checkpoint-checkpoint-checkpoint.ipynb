{
 "cells": [
  {
   "cell_type": "markdown",
   "id": "3846af42-1d28-4fce-aed8-3e50a0505466",
   "metadata": {},
   "source": [
    "Exploring Player Characteristics That Predicts Newsletter Subscription (Temporary Title)\n",
    "-\n",
    "\n",
    "**DSCI 100 010 Group 6** \n",
    "\n",
    "**Sayyam Arora, Michael Dickinson, Cecile Nava, Zoey Qiu** "
   ]
  },
  {
   "cell_type": "markdown",
   "id": "0cfedebc-332d-4e1e-9d56-997e74660fb1",
   "metadata": {},
   "source": [
    "------------\n",
    "\n",
    "### Introduction\n",
    "\n",
    "The Pacific Laboratory for Artificial Intelligence (PLAI) [link their research page], a research group at UBC’s Computer Science department led by Frank Wood [link his page], is interested in understanding which characteristics and behaviours in a video game player are most predictive of game newsletter subscription for Minecraft. Group 6 poses the question of whether age (`Age`) and played hours (`played_hours`) are reliable predictors for subscription status (`subscribe`) in the players.csv file.  While we will be explicitly using those three explicitly mentioned variables, there is also `gender`, `name`, `experience`, and `hashedEmail` which make up the 7 columns and 196 rows of `players.csv`. Below is a description of the 7 variables.  \n",
    "\n",
    "\n",
    "| # | Variable         | Description                                   | Variable Type |\n",
    "|---| ---------------- | ----------------------------------------------| --------------|\n",
    "| 1 | experience       |  experience status of player                  | character     |\n",
    "| 2 | subscribe        | whether player is subscribe to game newsletter| logical       |\n",
    "| 3 | hashedEmail      | player's hashed email to identify them        | character     |\n",
    "| 4 | played_hours     | how long player has played (in hours)         |        double |\n",
    "| 5 | name             | name of player                                |     character |\n",
    "| 6 | gender           | gender of player                              |     character |\n",
    "| 7 | Age              |                                 age of player |        double |\n",
    "\n",
    " \n",
    "\n",
    "Based on data exploration the mean played hours of the players is 5.8 hours, with a player reaching 223.1 hour and some not even reaching 1 full hour. The mean age of the 196 recorded players is 20, the oldest being 50 and the youngest being 8 years old.  "
   ]
  },
  {
   "cell_type": "code",
   "execution_count": null,
   "id": "314ef99d-267e-49d7-85b4-481de75de94e",
   "metadata": {},
   "outputs": [],
   "source": []
  }
 ],
 "metadata": {
  "kernelspec": {
   "display_name": "R",
   "language": "R",
   "name": "ir"
  },
  "language_info": {
   "codemirror_mode": "r",
   "file_extension": ".r",
   "mimetype": "text/x-r-source",
   "name": "R",
   "pygments_lexer": "r",
   "version": "4.3.3"
  }
 },
 "nbformat": 4,
 "nbformat_minor": 5
}
